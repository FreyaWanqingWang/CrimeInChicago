{
  "nbformat": 4,
  "nbformat_minor": 0,
  "metadata": {
    "colab": {
      "name": "DataCleaning&Processing.ipynb",
      "provenance": [],
      "collapsed_sections": [],
      "toc_visible": true
    },
    "kernelspec": {
      "display_name": "Python 3",
      "name": "python3"
    },
    "language_info": {
      "name": "python"
    }
  },
  "cells": [
    {
      "cell_type": "code",
      "metadata": {
        "colab": {
          "base_uri": "https://localhost:8080/"
        },
        "id": "GMgH1mPhpush",
        "outputId": "3c108a9c-6229-40b0-9a9b-0ddc4f7222b1"
      },
      "source": [
        "from google.colab import drive\n",
        "import os\n",
        "drive.mount('/content/drive/')\n",
        "os.chdir('/content/drive/My Drive/CA675/Data')\n",
        "\n"
      ],
      "execution_count": null,
      "outputs": [
        {
          "output_type": "stream",
          "name": "stdout",
          "text": [
            "Mounted at /content/drive/\n"
          ]
        }
      ]
    },
    {
      "cell_type": "markdown",
      "metadata": {
        "id": "v1hbZh4pDQnC"
      },
      "source": [
        "##First Clean"
      ]
    },
    {
      "cell_type": "markdown",
      "metadata": {
        "id": "X7--b7utuH0h"
      },
      "source": [
        ""
      ]
    },
    {
      "cell_type": "code",
      "metadata": {
        "id": "QW38Vy8Lqln0"
      },
      "source": [
        "import pandas as pd\n",
        "listFileName = ['Chicago_Crimes_2012_to_2017.csv']\n",
        "df = pd.DataFrame()\n",
        "for i in listFileName:\n",
        "  df = df.append(pd.read_csv(i))"
      ],
      "execution_count": null,
      "outputs": []
    },
    {
      "cell_type": "code",
      "metadata": {
        "id": "fuiywGstmc0x"
      },
      "source": [
        "df=df.drop('ID',axis=1)\n",
        "df=df.drop('Unnamed: 0',axis=1)\n",
        "df=df.drop('Case Number',axis=1)\n",
        "df=df.drop('IUCR',axis=1)\n",
        "df=df.drop('Location Description',axis=1)\n",
        "df=df.drop('Domestic',axis=1)\n",
        "df=df.drop('Beat',axis=1)\n",
        "df=df.drop('District',axis=1)\n",
        "df=df.drop('Ward',axis=1)\n",
        "df=df.drop('Community Area',axis=1)\n",
        "df=df.drop('FBI Code',axis=1)\n",
        "df=df.drop('X Coordinate',axis=1)\n",
        "df=df.drop('Y Coordinate',axis=1)\n",
        "df=df.drop('Updated On',axis=1)\n",
        "df=df.drop('Location',axis=1)\n",
        "\n"
      ],
      "execution_count": null,
      "outputs": []
    },
    {
      "cell_type": "code",
      "metadata": {
        "id": "O9imtY0kVpyQ"
      },
      "source": [
        "df.rename(columns={'Primary Type':'Primary'},inplace=True)"
      ],
      "execution_count": null,
      "outputs": []
    },
    {
      "cell_type": "code",
      "metadata": {
        "colab": {
          "base_uri": "https://localhost:8080/",
          "height": 585
        },
        "id": "vXm4qISBQdTo",
        "outputId": "8d6b1ed0-e39e-46b3-a927-be06ca4d168f"
      },
      "source": [
        "df"
      ],
      "execution_count": null,
      "outputs": [
        {
          "output_type": "execute_result",
          "data": {
            "text/html": [
              "<div>\n",
              "<style scoped>\n",
              "    .dataframe tbody tr th:only-of-type {\n",
              "        vertical-align: middle;\n",
              "    }\n",
              "\n",
              "    .dataframe tbody tr th {\n",
              "        vertical-align: top;\n",
              "    }\n",
              "\n",
              "    .dataframe thead th {\n",
              "        text-align: right;\n",
              "    }\n",
              "</style>\n",
              "<table border=\"1\" class=\"dataframe\">\n",
              "  <thead>\n",
              "    <tr style=\"text-align: right;\">\n",
              "      <th></th>\n",
              "      <th>Date</th>\n",
              "      <th>Block</th>\n",
              "      <th>Primary</th>\n",
              "      <th>Description</th>\n",
              "      <th>Arrest</th>\n",
              "      <th>Year</th>\n",
              "      <th>Latitude</th>\n",
              "      <th>Longitude</th>\n",
              "    </tr>\n",
              "  </thead>\n",
              "  <tbody>\n",
              "    <tr>\n",
              "      <th>0</th>\n",
              "      <td>05/03/2016 11:40:00 PM</td>\n",
              "      <td>013XX S SAWYER AVE</td>\n",
              "      <td>BATTERY</td>\n",
              "      <td>DOMESTIC BATTERY SIMPLE</td>\n",
              "      <td>True</td>\n",
              "      <td>2016</td>\n",
              "      <td>41.864073</td>\n",
              "      <td>-87.706819</td>\n",
              "    </tr>\n",
              "    <tr>\n",
              "      <th>1</th>\n",
              "      <td>05/03/2016 09:40:00 PM</td>\n",
              "      <td>061XX S DREXEL AVE</td>\n",
              "      <td>BATTERY</td>\n",
              "      <td>DOMESTIC BATTERY SIMPLE</td>\n",
              "      <td>False</td>\n",
              "      <td>2016</td>\n",
              "      <td>41.782922</td>\n",
              "      <td>-87.604363</td>\n",
              "    </tr>\n",
              "    <tr>\n",
              "      <th>2</th>\n",
              "      <td>05/03/2016 11:31:00 PM</td>\n",
              "      <td>053XX W CHICAGO AVE</td>\n",
              "      <td>PUBLIC PEACE VIOLATION</td>\n",
              "      <td>RECKLESS CONDUCT</td>\n",
              "      <td>False</td>\n",
              "      <td>2016</td>\n",
              "      <td>41.894908</td>\n",
              "      <td>-87.758372</td>\n",
              "    </tr>\n",
              "    <tr>\n",
              "      <th>3</th>\n",
              "      <td>05/03/2016 10:10:00 PM</td>\n",
              "      <td>049XX W FULTON ST</td>\n",
              "      <td>BATTERY</td>\n",
              "      <td>SIMPLE</td>\n",
              "      <td>False</td>\n",
              "      <td>2016</td>\n",
              "      <td>41.885687</td>\n",
              "      <td>-87.749516</td>\n",
              "    </tr>\n",
              "    <tr>\n",
              "      <th>4</th>\n",
              "      <td>05/03/2016 10:00:00 PM</td>\n",
              "      <td>003XX N LOTUS AVE</td>\n",
              "      <td>THEFT</td>\n",
              "      <td>$500 AND UNDER</td>\n",
              "      <td>False</td>\n",
              "      <td>2016</td>\n",
              "      <td>41.886297</td>\n",
              "      <td>-87.761751</td>\n",
              "    </tr>\n",
              "    <tr>\n",
              "      <th>...</th>\n",
              "      <td>...</td>\n",
              "      <td>...</td>\n",
              "      <td>...</td>\n",
              "      <td>...</td>\n",
              "      <td>...</td>\n",
              "      <td>...</td>\n",
              "      <td>...</td>\n",
              "      <td>...</td>\n",
              "    </tr>\n",
              "    <tr>\n",
              "      <th>1456709</th>\n",
              "      <td>05/03/2016 11:33:00 PM</td>\n",
              "      <td>026XX W 23RD PL</td>\n",
              "      <td>BATTERY</td>\n",
              "      <td>DOMESTIC BATTERY SIMPLE</td>\n",
              "      <td>True</td>\n",
              "      <td>2016</td>\n",
              "      <td>41.849222</td>\n",
              "      <td>-87.691556</td>\n",
              "    </tr>\n",
              "    <tr>\n",
              "      <th>1456710</th>\n",
              "      <td>05/03/2016 11:30:00 PM</td>\n",
              "      <td>073XX S HARVARD AVE</td>\n",
              "      <td>CRIMINAL DAMAGE</td>\n",
              "      <td>TO PROPERTY</td>\n",
              "      <td>True</td>\n",
              "      <td>2016</td>\n",
              "      <td>41.760744</td>\n",
              "      <td>-87.633335</td>\n",
              "    </tr>\n",
              "    <tr>\n",
              "      <th>1456711</th>\n",
              "      <td>05/03/2016 12:15:00 AM</td>\n",
              "      <td>024XX W 63RD ST</td>\n",
              "      <td>BATTERY</td>\n",
              "      <td>AGGRAVATED: HANDGUN</td>\n",
              "      <td>False</td>\n",
              "      <td>2016</td>\n",
              "      <td>41.779235</td>\n",
              "      <td>-87.685207</td>\n",
              "    </tr>\n",
              "    <tr>\n",
              "      <th>1456712</th>\n",
              "      <td>05/03/2016 09:07:00 PM</td>\n",
              "      <td>082XX S EXCHANGE AVE</td>\n",
              "      <td>BATTERY</td>\n",
              "      <td>DOMESTIC BATTERY SIMPLE</td>\n",
              "      <td>False</td>\n",
              "      <td>2016</td>\n",
              "      <td>41.745252</td>\n",
              "      <td>-87.552773</td>\n",
              "    </tr>\n",
              "    <tr>\n",
              "      <th>1456713</th>\n",
              "      <td>05/03/2016 11:38:00 PM</td>\n",
              "      <td>001XX E 75TH ST</td>\n",
              "      <td>OTHER OFFENSE</td>\n",
              "      <td>OTHER WEAPONS VIOLATION</td>\n",
              "      <td>True</td>\n",
              "      <td>2016</td>\n",
              "      <td>41.758309</td>\n",
              "      <td>-87.620658</td>\n",
              "    </tr>\n",
              "  </tbody>\n",
              "</table>\n",
              "<p>1456714 rows × 8 columns</p>\n",
              "</div>"
            ],
            "text/plain": [
              "                           Date                 Block  ...   Latitude  Longitude\n",
              "0        05/03/2016 11:40:00 PM    013XX S SAWYER AVE  ...  41.864073 -87.706819\n",
              "1        05/03/2016 09:40:00 PM    061XX S DREXEL AVE  ...  41.782922 -87.604363\n",
              "2        05/03/2016 11:31:00 PM   053XX W CHICAGO AVE  ...  41.894908 -87.758372\n",
              "3        05/03/2016 10:10:00 PM     049XX W FULTON ST  ...  41.885687 -87.749516\n",
              "4        05/03/2016 10:00:00 PM     003XX N LOTUS AVE  ...  41.886297 -87.761751\n",
              "...                         ...                   ...  ...        ...        ...\n",
              "1456709  05/03/2016 11:33:00 PM       026XX W 23RD PL  ...  41.849222 -87.691556\n",
              "1456710  05/03/2016 11:30:00 PM   073XX S HARVARD AVE  ...  41.760744 -87.633335\n",
              "1456711  05/03/2016 12:15:00 AM       024XX W 63RD ST  ...  41.779235 -87.685207\n",
              "1456712  05/03/2016 09:07:00 PM  082XX S EXCHANGE AVE  ...  41.745252 -87.552773\n",
              "1456713  05/03/2016 11:38:00 PM       001XX E 75TH ST  ...  41.758309 -87.620658\n",
              "\n",
              "[1456714 rows x 8 columns]"
            ]
          },
          "metadata": {},
          "execution_count": 53
        }
      ]
    },
    {
      "cell_type": "code",
      "metadata": {
        "id": "ndf2KW1IN49t"
      },
      "source": [
        "df.to_csv('firstCrimeClean.csv')"
      ],
      "execution_count": null,
      "outputs": []
    },
    {
      "cell_type": "code",
      "metadata": {
        "colab": {
          "base_uri": "https://localhost:8080/"
        },
        "id": "t0bD5RO_rjWZ",
        "outputId": "fc2eef62-55a0-433e-aa3b-586c9e3f9c1e"
      },
      "source": [
        "df.columns"
      ],
      "execution_count": null,
      "outputs": [
        {
          "output_type": "execute_result",
          "data": {
            "text/plain": [
              "Index(['Unnamed: 0', 'ID', 'Case Number', 'Date', 'Block', 'IUCR',\n",
              "       'Primary Type', 'Description', 'Location Description', 'Arrest',\n",
              "       'Domestic', 'Beat', 'District', 'Ward', 'Community Area', 'FBI Code',\n",
              "       'X Coordinate', 'Y Coordinate', 'Year', 'Updated On', 'Latitude',\n",
              "       'Longitude', 'Location'],\n",
              "      dtype='object')"
            ]
          },
          "metadata": {},
          "execution_count": 27
        }
      ]
    },
    {
      "cell_type": "code",
      "metadata": {
        "id": "IVmvGAiNuntb"
      },
      "source": [
        ""
      ],
      "execution_count": null,
      "outputs": []
    },
    {
      "cell_type": "markdown",
      "metadata": {
        "id": "XVdB4xmgOVz4"
      },
      "source": [
        "## Transfer to Json"
      ]
    },
    {
      "cell_type": "code",
      "metadata": {
        "colab": {
          "base_uri": "https://localhost:8080/"
        },
        "id": "NzcnGF-g1XDN",
        "outputId": "f8ec0df4-04e3-4b22-caa6-88d2cde7c621"
      },
      "source": [
        "import pandas as pd\n",
        "df_o = pd.read_csv('firstCrimeClean.csv',index_col=0)"
      ],
      "execution_count": null,
      "outputs": [
        {
          "output_type": "stream",
          "name": "stderr",
          "text": [
            "/usr/local/lib/python3.7/dist-packages/numpy/lib/arraysetops.py:580: FutureWarning: elementwise comparison failed; returning scalar instead, but in the future will perform elementwise comparison\n",
            "  mask |= (ar1 == a)\n"
          ]
        }
      ]
    },
    {
      "cell_type": "code",
      "metadata": {
        "colab": {
          "base_uri": "https://localhost:8080/",
          "height": 585
        },
        "id": "OYhJBXuM1lOQ",
        "outputId": "f705b5fa-708b-4f5f-bb3c-e7e3a99f0a20"
      },
      "source": [
        "df_o"
      ],
      "execution_count": null,
      "outputs": [
        {
          "output_type": "execute_result",
          "data": {
            "text/html": [
              "<div>\n",
              "<style scoped>\n",
              "    .dataframe tbody tr th:only-of-type {\n",
              "        vertical-align: middle;\n",
              "    }\n",
              "\n",
              "    .dataframe tbody tr th {\n",
              "        vertical-align: top;\n",
              "    }\n",
              "\n",
              "    .dataframe thead th {\n",
              "        text-align: right;\n",
              "    }\n",
              "</style>\n",
              "<table border=\"1\" class=\"dataframe\">\n",
              "  <thead>\n",
              "    <tr style=\"text-align: right;\">\n",
              "      <th></th>\n",
              "      <th>Date</th>\n",
              "      <th>Block</th>\n",
              "      <th>Primary</th>\n",
              "      <th>Description</th>\n",
              "      <th>Arrest</th>\n",
              "      <th>Year</th>\n",
              "      <th>Latitude</th>\n",
              "      <th>Longitude</th>\n",
              "    </tr>\n",
              "  </thead>\n",
              "  <tbody>\n",
              "    <tr>\n",
              "      <th>0</th>\n",
              "      <td>05/03/2016 11:40:00 PM</td>\n",
              "      <td>013XX S SAWYER AVE</td>\n",
              "      <td>BATTERY</td>\n",
              "      <td>DOMESTIC BATTERY SIMPLE</td>\n",
              "      <td>True</td>\n",
              "      <td>2016</td>\n",
              "      <td>41.864073</td>\n",
              "      <td>-87.706819</td>\n",
              "    </tr>\n",
              "    <tr>\n",
              "      <th>1</th>\n",
              "      <td>05/03/2016 09:40:00 PM</td>\n",
              "      <td>061XX S DREXEL AVE</td>\n",
              "      <td>BATTERY</td>\n",
              "      <td>DOMESTIC BATTERY SIMPLE</td>\n",
              "      <td>False</td>\n",
              "      <td>2016</td>\n",
              "      <td>41.782922</td>\n",
              "      <td>-87.604363</td>\n",
              "    </tr>\n",
              "    <tr>\n",
              "      <th>2</th>\n",
              "      <td>05/03/2016 11:31:00 PM</td>\n",
              "      <td>053XX W CHICAGO AVE</td>\n",
              "      <td>PUBLIC PEACE VIOLATION</td>\n",
              "      <td>RECKLESS CONDUCT</td>\n",
              "      <td>False</td>\n",
              "      <td>2016</td>\n",
              "      <td>41.894908</td>\n",
              "      <td>-87.758372</td>\n",
              "    </tr>\n",
              "    <tr>\n",
              "      <th>3</th>\n",
              "      <td>05/03/2016 10:10:00 PM</td>\n",
              "      <td>049XX W FULTON ST</td>\n",
              "      <td>BATTERY</td>\n",
              "      <td>SIMPLE</td>\n",
              "      <td>False</td>\n",
              "      <td>2016</td>\n",
              "      <td>41.885687</td>\n",
              "      <td>-87.749516</td>\n",
              "    </tr>\n",
              "    <tr>\n",
              "      <th>4</th>\n",
              "      <td>05/03/2016 10:00:00 PM</td>\n",
              "      <td>003XX N LOTUS AVE</td>\n",
              "      <td>THEFT</td>\n",
              "      <td>$500 AND UNDER</td>\n",
              "      <td>False</td>\n",
              "      <td>2016</td>\n",
              "      <td>41.886297</td>\n",
              "      <td>-87.761751</td>\n",
              "    </tr>\n",
              "    <tr>\n",
              "      <th>...</th>\n",
              "      <td>...</td>\n",
              "      <td>...</td>\n",
              "      <td>...</td>\n",
              "      <td>...</td>\n",
              "      <td>...</td>\n",
              "      <td>...</td>\n",
              "      <td>...</td>\n",
              "      <td>...</td>\n",
              "    </tr>\n",
              "    <tr>\n",
              "      <th>1456709</th>\n",
              "      <td>05/03/2016 11:33:00 PM</td>\n",
              "      <td>026XX W 23RD PL</td>\n",
              "      <td>BATTERY</td>\n",
              "      <td>DOMESTIC BATTERY SIMPLE</td>\n",
              "      <td>True</td>\n",
              "      <td>2016</td>\n",
              "      <td>41.849222</td>\n",
              "      <td>-87.691556</td>\n",
              "    </tr>\n",
              "    <tr>\n",
              "      <th>1456710</th>\n",
              "      <td>05/03/2016 11:30:00 PM</td>\n",
              "      <td>073XX S HARVARD AVE</td>\n",
              "      <td>CRIMINAL DAMAGE</td>\n",
              "      <td>TO PROPERTY</td>\n",
              "      <td>True</td>\n",
              "      <td>2016</td>\n",
              "      <td>41.760744</td>\n",
              "      <td>-87.633335</td>\n",
              "    </tr>\n",
              "    <tr>\n",
              "      <th>1456711</th>\n",
              "      <td>05/03/2016 12:15:00 AM</td>\n",
              "      <td>024XX W 63RD ST</td>\n",
              "      <td>BATTERY</td>\n",
              "      <td>AGGRAVATED: HANDGUN</td>\n",
              "      <td>False</td>\n",
              "      <td>2016</td>\n",
              "      <td>41.779235</td>\n",
              "      <td>-87.685207</td>\n",
              "    </tr>\n",
              "    <tr>\n",
              "      <th>1456712</th>\n",
              "      <td>05/03/2016 09:07:00 PM</td>\n",
              "      <td>082XX S EXCHANGE AVE</td>\n",
              "      <td>BATTERY</td>\n",
              "      <td>DOMESTIC BATTERY SIMPLE</td>\n",
              "      <td>False</td>\n",
              "      <td>2016</td>\n",
              "      <td>41.745252</td>\n",
              "      <td>-87.552773</td>\n",
              "    </tr>\n",
              "    <tr>\n",
              "      <th>1456713</th>\n",
              "      <td>05/03/2016 11:38:00 PM</td>\n",
              "      <td>001XX E 75TH ST</td>\n",
              "      <td>OTHER OFFENSE</td>\n",
              "      <td>OTHER WEAPONS VIOLATION</td>\n",
              "      <td>True</td>\n",
              "      <td>2016</td>\n",
              "      <td>41.758309</td>\n",
              "      <td>-87.620658</td>\n",
              "    </tr>\n",
              "  </tbody>\n",
              "</table>\n",
              "<p>1456714 rows × 8 columns</p>\n",
              "</div>"
            ],
            "text/plain": [
              "                           Date                 Block  ...   Latitude  Longitude\n",
              "0        05/03/2016 11:40:00 PM    013XX S SAWYER AVE  ...  41.864073 -87.706819\n",
              "1        05/03/2016 09:40:00 PM    061XX S DREXEL AVE  ...  41.782922 -87.604363\n",
              "2        05/03/2016 11:31:00 PM   053XX W CHICAGO AVE  ...  41.894908 -87.758372\n",
              "3        05/03/2016 10:10:00 PM     049XX W FULTON ST  ...  41.885687 -87.749516\n",
              "4        05/03/2016 10:00:00 PM     003XX N LOTUS AVE  ...  41.886297 -87.761751\n",
              "...                         ...                   ...  ...        ...        ...\n",
              "1456709  05/03/2016 11:33:00 PM       026XX W 23RD PL  ...  41.849222 -87.691556\n",
              "1456710  05/03/2016 11:30:00 PM   073XX S HARVARD AVE  ...  41.760744 -87.633335\n",
              "1456711  05/03/2016 12:15:00 AM       024XX W 63RD ST  ...  41.779235 -87.685207\n",
              "1456712  05/03/2016 09:07:00 PM  082XX S EXCHANGE AVE  ...  41.745252 -87.552773\n",
              "1456713  05/03/2016 11:38:00 PM       001XX E 75TH ST  ...  41.758309 -87.620658\n",
              "\n",
              "[1456714 rows x 8 columns]"
            ]
          },
          "metadata": {},
          "execution_count": 59
        }
      ]
    },
    {
      "cell_type": "code",
      "metadata": {
        "id": "o61Go4b-fekQ"
      },
      "source": [
        "df_o.to_json('Crimefinaldate.json',orient='table')\n",
        "df_o[0:1].to_json('CrimeEmpty.json',orient='table')\n",
        "\n",
        "for idx in range(0,14):\n",
        "  df_o[idx*100000+2:idx*100000+100001].to_json('CrimePart'+str(idx)+'.json',orient='index')\n",
        "df_o[1400002:].to_json('CrimePart14.json',orient='index')\n",
        "\n",
        "\n",
        "\n"
      ],
      "execution_count": null,
      "outputs": []
    }
  ]
}